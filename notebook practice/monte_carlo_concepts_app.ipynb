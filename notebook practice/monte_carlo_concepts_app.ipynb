{
 "cells": [
  {
   "cell_type": "code",
   "execution_count": 1,
   "id": "3b7a3865-0f53-47ac-9afb-ba0dcc533ceb",
   "metadata": {},
   "outputs": [
    {
     "name": "stdout",
     "output_type": "stream",
     "text": [
      "[3.86849794 3.40244885 3.06574895 ... 2.82155492 1.16507431 4.79738461]\n",
      "[5.44829235 2.97717873 4.53759008 ... 4.49375154 2.61198672 4.96870563]\n",
      "[9.31679029 6.37962758 7.60333903 ... 7.31530647 3.77706103 9.76609024]\n",
      "<class 'numpy.ndarray'>\n"
     ]
    }
   ],
   "source": [
    "import numpy as np\n",
    "sims = 10000\n",
    "A = np.random.uniform(1,5,sims)\n",
    "print(A)\n",
    "# print(type(A))\n",
    "B = np.random.uniform(2,6,sims)\n",
    "print(B)\n",
    "duration = A + B\n",
    "print(duration)\n",
    "print(type(duration))"
   ]
  },
  {
   "cell_type": "code",
   "execution_count": 3,
   "id": "bc82e769-c5c6-4bc8-8437-91a4b808f759",
   "metadata": {},
   "outputs": [
    {
     "data": {
      "image/png": "[encoded data removed]",
      "text/plain": [
       "<Figure size 300x150 with 1 Axes>"
      ]
     },
     "metadata": {},
     "output_type": "display_data"
    },
    {
     "name": "stdout",
     "output_type": "stream",
     "text": [
      "0.1248\n"
     ]
    }
   ],
   "source": [
    "import matplotlib.pyplot as plt\n",
    "plt.figure(figsize = (3,1.5))\n",
    "plt.hist(duration, density = True)\n",
    "plt.axvline(9, color = 'r')\n",
    "plt.show()\n",
    "print((duration >9 ).sum()/sims)"
   ]
  },
  {
   "cell_type": "code",
   "execution_count": null,
   "id": "448dfcf8-c6dc-42a2-b01a-fae85a373bc7",
   "metadata": {},
   "outputs": [],
   "source": []
  }
 ],
 "metadata": {
  "kernelspec": {
   "display_name": "Python 3 (ipykernel)",
   "language": "python",
   "name": "python3"
  },
  "language_info": {
   "codemirror_mode": {
    "name": "ipython",
    "version": 3
   },
   "file_extension": ".py",
   "mimetype": "text/x-python",
   "name": "python",
   "nbconvert_exporter": "python",
   "pygments_lexer": "ipython3",
   "version": "3.8.19"
  }
 },
 "nbformat": 4,
 "nbformat_minor": 5
}
