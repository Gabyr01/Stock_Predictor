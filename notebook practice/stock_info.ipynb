{
 "cells": [
  {
   "cell_type": "code",
   "execution_count": 5,
   "metadata": {},
   "outputs": [],
   "source": [
    "import yfinance as yf\n",
    "import numpy as np\n",
    "import datetime as dt\n",
    "import matplotlib.pyplot as plt"
   ]
  },
  {
   "cell_type": "code",
   "execution_count": 1,
   "metadata": {},
   "outputs": [
    {
     "ename": "NameError",
     "evalue": "name 'yf' is not defined",
     "output_type": "error",
     "traceback": [
      "\u001b[0;31m---------------------------------------------------------------------------\u001b[0m",
      "\u001b[0;31mNameError\u001b[0m                                 Traceback (most recent call last)",
      "Cell \u001b[0;32mIn[1], line 2\u001b[0m\n\u001b[1;32m      1\u001b[0m \u001b[38;5;66;03m#table plots\u001b[39;00m\n\u001b[0;32m----> 2\u001b[0m ticker \u001b[38;5;241m=\u001b[39m \u001b[43myf\u001b[49m\u001b[38;5;241m.\u001b[39mTicker(\u001b[38;5;124m'\u001b[39m\u001b[38;5;124mPINS\u001b[39m\u001b[38;5;124m'\u001b[39m)\n\u001b[1;32m      3\u001b[0m \u001b[38;5;66;03m# get data of the most recent date\u001b[39;00m\n\u001b[1;32m      4\u001b[0m \u001b[38;5;66;03m# **************************\u001b[39;00m\n\u001b[1;32m      5\u001b[0m \u001b[38;5;66;03m#aapl_df = ticker.history(period='1y')\u001b[39;00m\n\u001b[1;32m      6\u001b[0m \u001b[38;5;66;03m# ****************************\u001b[39;00m\n\u001b[1;32m      7\u001b[0m days \u001b[38;5;241m=\u001b[39m \u001b[38;5;124m\"\u001b[39m\u001b[38;5;124m800\u001b[39m\u001b[38;5;124m\"\u001b[39m\n",
      "\u001b[0;31mNameError\u001b[0m: name 'yf' is not defined"
     ]
    }
   ],
   "source": [
    "#table plots\n",
    "ticker = yf.Ticker('PINS')\n",
    "# get data of the most recent date\n",
    "# **************************\n",
    "#aapl_df = ticker.history(period='1y')\n",
    "# ****************************\n",
    "days = \"800\"\n",
    "aapl_df = ticker.history(period= days + 'd')# get data of the most recent date\n",
    "print(aapl_df)\n",
    "# plot the close price\n",
    "aapl_df['Open'].plot(title=\"OPEN\")\n",
    "aapl_df['High'].plot(title=\"HIGH\")\n",
    "aapl_df['Low'].plot(title=\"LOW\")\n",
    "aapl_df['Close'].plot(title=\"CLOSE\")"
   ]
  },
  {
   "cell_type": "code",
   "execution_count": null,
   "metadata": {},
   "outputs": [],
   "source": []
  }
 ],
 "metadata": {
  "kernelspec": {
   "display_name": "Python 3",
   "language": "python",
   "name": "python3"
  },
  "language_info": {
   "codemirror_mode": {
    "name": "ipython",
    "version": 3
   },
   "file_extension": ".py",
   "mimetype": "text/x-python",
   "name": "python",
   "nbconvert_exporter": "python",
   "pygments_lexer": "ipython3",
   "version": "3.8.19"
  }
 },
 "nbformat": 4,
 "nbformat_minor": 2
}
